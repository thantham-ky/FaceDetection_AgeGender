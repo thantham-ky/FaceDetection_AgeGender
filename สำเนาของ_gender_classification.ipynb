{
  "nbformat": 4,
  "nbformat_minor": 0,
  "metadata": {
    "colab": {
      "name": "สำเนาของ gender_classification.ipynb",
      "provenance": [],
      "authorship_tag": "ABX9TyNgUv7ioaXewLNVj3/patDe",
      "include_colab_link": true
    },
    "kernelspec": {
      "name": "python3",
      "display_name": "Python 3"
    },
    "accelerator": "GPU"
  },
  "cells": [
    {
      "cell_type": "markdown",
      "metadata": {
        "id": "view-in-github",
        "colab_type": "text"
      },
      "source": [
        "<a href=\"https://colab.research.google.com/github/thantham-ky/FaceDetection_AgeGender/blob/master/%E0%B8%AA%E0%B8%B3%E0%B9%80%E0%B8%99%E0%B8%B2%E0%B8%82%E0%B8%AD%E0%B8%87_gender_classification.ipynb\" target=\"_parent\"><img src=\"https://colab.research.google.com/assets/colab-badge.svg\" alt=\"Open In Colab\"/></a>"
      ]
    },
    {
      "cell_type": "code",
      "metadata": {
        "id": "mSo_OCMDLSRn",
        "colab": {
          "base_uri": "https://localhost:8080/",
          "height": 34
        },
        "outputId": "ecae71a2-c51e-4fd2-dbad-3d4bc5d4e725"
      },
      "source": [
        "from google.colab import drive\n",
        "drive.mount(\"/content/drive\")"
      ],
      "execution_count": null,
      "outputs": [
        {
          "output_type": "stream",
          "text": [
            "Mounted at /content/drive\n"
          ],
          "name": "stdout"
        }
      ]
    },
    {
      "cell_type": "code",
      "metadata": {
        "id": "2iivOBZCMNaG"
      },
      "source": [
        "import numpy as np"
      ],
      "execution_count": null,
      "outputs": []
    },
    {
      "cell_type": "code",
      "metadata": {
        "id": "8azlSD3LMXWn"
      },
      "source": [
        "x = np.load('/content/drive/My Drive/FaceDetection_AgeGender/imgdata.npy')\n",
        "y = np.load('/content/drive/My Drive/FaceDetection_AgeGender/gender.npy')"
      ],
      "execution_count": null,
      "outputs": []
    },
    {
      "cell_type": "code",
      "metadata": {
        "id": "irKE6Vz5MpMt"
      },
      "source": [
        "from keras.applications import Xception, MobileNetV2, ResNet50V2, InceptionV3, DenseNet201\n",
        "from keras.models import  Model\n",
        "from keras.layers import Dense, Flatten, Dropout\n",
        "from keras.preprocessing.image import ImageDataGenerator\n",
        "\n",
        "from keras.callbacks import EarlyStopping, ReduceLROnPlateau\n",
        "\n",
        "from keras.optimizers import RMSprop, Adam\n",
        "\n",
        "from keras.utils import plot_model\n",
        "from sklearn.model_selection import train_test_split\n",
        "\n",
        "import pandas as pd"
      ],
      "execution_count": null,
      "outputs": []
    },
    {
      "cell_type": "code",
      "metadata": {
        "id": "RAv-8WilM-eG"
      },
      "source": [
        "x_train, x_test, y_train, y_test = train_test_split(x, y, test_size=0.2, random_state=7)"
      ],
      "execution_count": null,
      "outputs": []
    },
    {
      "cell_type": "code",
      "metadata": {
        "id": "JwxeGWLHNKWH"
      },
      "source": [
        "datagen = ImageDataGenerator(horizontal_flip=True, \n",
        "                             rotation_range=10, \n",
        "                             width_shift_range=0.1, \n",
        "                             height_shift_range=0.1, \n",
        "                             zoom_range=0.1, \n",
        "                             rescale=0.1,\n",
        "                             shear_range=0.1,\n",
        "                             brightness_range=[0.1,0.2])"
      ],
      "execution_count": null,
      "outputs": []
    },
    {
      "cell_type": "code",
      "metadata": {
        "id": "kgEBW7sQNbgV",
        "colab": {
          "base_uri": "https://localhost:8080/",
          "height": 50
        },
        "outputId": "94f85831-9d61-4231-ff7f-4994b3ba970d"
      },
      "source": [
        "base_model = DenseNet201(input_shape=x_train.shape[1:], include_top=False, pooling='avg')\n",
        "x = base_model.output\n",
        "x = Dense(2048, activation='relu')(x)\n",
        "x = Dropout(0.5)(x)\n",
        "gender_out = Dense(1, activation='sigmoid', name='gender_out')(x)\n",
        "gender_model = Model(inputs=base_model.input, outputs=gender_out)\n",
        "\n",
        "gender_model.compile(loss='binary_crossentropy', optimizer=Adam(learning_rate=0.0001), metrics=['accuracy'])"
      ],
      "execution_count": null,
      "outputs": [
        {
          "output_type": "stream",
          "text": [
            "Downloading data from https://storage.googleapis.com/tensorflow/keras-applications/densenet/densenet201_weights_tf_dim_ordering_tf_kernels_notop.h5\n",
            "74842112/74836368 [==============================] - 1s 0us/step\n"
          ],
          "name": "stdout"
        }
      ]
    },
    {
      "cell_type": "code",
      "metadata": {
        "id": "czizaTbcNmPW"
      },
      "source": [
        "callbacks = [#EarlyStopping(monitor='loss', patience=10, verbose=True),\n",
        "             ReduceLROnPlateau(monitor='loss', patience=3, verbose=True)]"
      ],
      "execution_count": null,
      "outputs": []
    },
    {
      "cell_type": "code",
      "metadata": {
        "id": "UDXmJ78DOSne",
        "colab": {
          "base_uri": "https://localhost:8080/",
          "height": 1000
        },
        "outputId": "38397496-da7a-4f03-9e81-eff4a9ab4e33"
      },
      "source": [
        "gender_history = gender_model.fit_generator(datagen.flow(x_train, y_train),\n",
        "                                      steps_per_epoch=x_train.shape[0]//32,epochs=50,\n",
        "                                      validation_data=datagen.flow(x_test, y_test),\n",
        "                                      workers=-1, callbacks=callbacks)"
      ],
      "execution_count": null,
      "outputs": [
        {
          "output_type": "stream",
          "text": [
            "Epoch 1/50\n",
            "12/12 [==============================] - 17s 1s/step - loss: 0.5756 - accuracy: 0.7005 - val_loss: 1.0556 - val_accuracy: 0.5657\n",
            "Epoch 2/50\n",
            "12/12 [==============================] - 11s 931ms/step - loss: 0.3499 - accuracy: 0.8269 - val_loss: 1.1478 - val_accuracy: 0.5859\n",
            "Epoch 3/50\n",
            "12/12 [==============================] - 11s 933ms/step - loss: 0.2311 - accuracy: 0.8929 - val_loss: 1.1787 - val_accuracy: 0.5859\n",
            "Epoch 4/50\n",
            "12/12 [==============================] - 12s 977ms/step - loss: 0.1422 - accuracy: 0.9323 - val_loss: 1.1602 - val_accuracy: 0.5960\n",
            "Epoch 5/50\n",
            "12/12 [==============================] - 11s 937ms/step - loss: 0.0905 - accuracy: 0.9670 - val_loss: 1.2886 - val_accuracy: 0.6667\n",
            "Epoch 6/50\n",
            "12/12 [==============================] - 11s 950ms/step - loss: 0.0750 - accuracy: 0.9670 - val_loss: 0.6012 - val_accuracy: 0.7677\n",
            "Epoch 7/50\n",
            "12/12 [==============================] - 11s 944ms/step - loss: 0.0882 - accuracy: 0.9780 - val_loss: 0.7126 - val_accuracy: 0.7677\n",
            "Epoch 8/50\n",
            "12/12 [==============================] - 11s 941ms/step - loss: 0.0573 - accuracy: 0.9808 - val_loss: 0.4475 - val_accuracy: 0.8283\n",
            "Epoch 9/50\n",
            "12/12 [==============================] - 11s 937ms/step - loss: 0.0413 - accuracy: 0.9835 - val_loss: 0.7044 - val_accuracy: 0.7879\n",
            "Epoch 10/50\n",
            "12/12 [==============================] - 11s 928ms/step - loss: 0.0182 - accuracy: 0.9973 - val_loss: 0.1924 - val_accuracy: 0.9394\n",
            "Epoch 11/50\n",
            "12/12 [==============================] - 11s 908ms/step - loss: 0.0165 - accuracy: 0.9945 - val_loss: 0.2730 - val_accuracy: 0.9091\n",
            "Epoch 12/50\n",
            "12/12 [==============================] - 11s 921ms/step - loss: 0.0241 - accuracy: 0.9890 - val_loss: 0.3150 - val_accuracy: 0.9192\n",
            "Epoch 13/50\n",
            "12/12 [==============================] - 11s 908ms/step - loss: 0.0276 - accuracy: 0.9918 - val_loss: 0.9699 - val_accuracy: 0.8283\n",
            "Epoch 14/50\n",
            "12/12 [==============================] - ETA: 0s - loss: 0.0268 - accuracy: 0.9863\n",
            "Epoch 00014: ReduceLROnPlateau reducing learning rate to 9.999999747378752e-06.\n",
            "12/12 [==============================] - 11s 909ms/step - loss: 0.0268 - accuracy: 0.9863 - val_loss: 0.3793 - val_accuracy: 0.8889\n",
            "Epoch 15/50\n",
            "12/12 [==============================] - 11s 906ms/step - loss: 0.0226 - accuracy: 0.9890 - val_loss: 0.3638 - val_accuracy: 0.8990\n",
            "Epoch 16/50\n",
            "12/12 [==============================] - 11s 957ms/step - loss: 0.0186 - accuracy: 0.9945 - val_loss: 0.2831 - val_accuracy: 0.9394\n",
            "Epoch 17/50\n",
            "12/12 [==============================] - 11s 913ms/step - loss: 0.0024 - accuracy: 1.0000 - val_loss: 0.3390 - val_accuracy: 0.8889\n",
            "Epoch 18/50\n",
            "12/12 [==============================] - 11s 909ms/step - loss: 0.0051 - accuracy: 1.0000 - val_loss: 0.3538 - val_accuracy: 0.9091\n",
            "Epoch 19/50\n",
            "12/12 [==============================] - 11s 909ms/step - loss: 0.0112 - accuracy: 0.9945 - val_loss: 0.2817 - val_accuracy: 0.9192\n",
            "Epoch 20/50\n",
            "12/12 [==============================] - ETA: 0s - loss: 0.0099 - accuracy: 0.9973\n",
            "Epoch 00020: ReduceLROnPlateau reducing learning rate to 9.999999747378752e-07.\n",
            "12/12 [==============================] - 12s 963ms/step - loss: 0.0099 - accuracy: 0.9973 - val_loss: 0.3617 - val_accuracy: 0.9192\n",
            "Epoch 21/50\n",
            "12/12 [==============================] - 11s 930ms/step - loss: 0.0095 - accuracy: 0.9973 - val_loss: 0.2439 - val_accuracy: 0.9091\n",
            "Epoch 22/50\n",
            "12/12 [==============================] - 11s 926ms/step - loss: 0.0067 - accuracy: 0.9973 - val_loss: 0.1982 - val_accuracy: 0.9495\n",
            "Epoch 23/50\n",
            "12/12 [==============================] - ETA: 0s - loss: 0.0075 - accuracy: 0.9973\n",
            "Epoch 00023: ReduceLROnPlateau reducing learning rate to 9.999999974752428e-08.\n",
            "12/12 [==============================] - 11s 925ms/step - loss: 0.0075 - accuracy: 0.9973 - val_loss: 0.2004 - val_accuracy: 0.9293\n",
            "Epoch 24/50\n",
            "12/12 [==============================] - 11s 919ms/step - loss: 0.0025 - accuracy: 1.0000 - val_loss: 0.1741 - val_accuracy: 0.9293\n",
            "Epoch 25/50\n",
            "12/12 [==============================] - 11s 919ms/step - loss: 0.0090 - accuracy: 1.0000 - val_loss: 0.2575 - val_accuracy: 0.9394\n",
            "Epoch 26/50\n",
            "12/12 [==============================] - ETA: 0s - loss: 0.0027 - accuracy: 1.0000\n",
            "Epoch 00026: ReduceLROnPlateau reducing learning rate to 1.0000000116860975e-08.\n",
            "12/12 [==============================] - 11s 920ms/step - loss: 0.0027 - accuracy: 1.0000 - val_loss: 0.2662 - val_accuracy: 0.9293\n",
            "Epoch 27/50\n",
            "12/12 [==============================] - 11s 923ms/step - loss: 0.0046 - accuracy: 1.0000 - val_loss: 0.1504 - val_accuracy: 0.9495\n",
            "Epoch 28/50\n",
            "12/12 [==============================] - 11s 916ms/step - loss: 0.0034 - accuracy: 1.0000 - val_loss: 0.1863 - val_accuracy: 0.9495\n",
            "Epoch 29/50\n",
            "12/12 [==============================] - ETA: 0s - loss: 0.0182 - accuracy: 0.9863\n",
            "Epoch 00029: ReduceLROnPlateau reducing learning rate to 9.999999939225292e-10.\n",
            "12/12 [==============================] - 11s 919ms/step - loss: 0.0182 - accuracy: 0.9863 - val_loss: 0.1446 - val_accuracy: 0.9596\n",
            "Epoch 30/50\n",
            "12/12 [==============================] - 11s 917ms/step - loss: 0.0071 - accuracy: 1.0000 - val_loss: 0.1804 - val_accuracy: 0.9495\n",
            "Epoch 31/50\n",
            "12/12 [==============================] - 11s 918ms/step - loss: 0.0049 - accuracy: 0.9973 - val_loss: 0.2469 - val_accuracy: 0.9394\n",
            "Epoch 32/50\n",
            "12/12 [==============================] - ETA: 0s - loss: 0.0048 - accuracy: 1.0000\n",
            "Epoch 00032: ReduceLROnPlateau reducing learning rate to 9.999999717180686e-11.\n",
            "12/12 [==============================] - 11s 919ms/step - loss: 0.0048 - accuracy: 1.0000 - val_loss: 0.1793 - val_accuracy: 0.9192\n",
            "Epoch 33/50\n",
            "12/12 [==============================] - 11s 920ms/step - loss: 0.0105 - accuracy: 0.9945 - val_loss: 0.1824 - val_accuracy: 0.9495\n",
            "Epoch 34/50\n",
            "12/12 [==============================] - 11s 912ms/step - loss: 0.0098 - accuracy: 0.9973 - val_loss: 0.2877 - val_accuracy: 0.9091\n",
            "Epoch 35/50\n",
            "12/12 [==============================] - ETA: 0s - loss: 0.0040 - accuracy: 1.0000\n",
            "Epoch 00035: ReduceLROnPlateau reducing learning rate to 9.99999943962493e-12.\n",
            "12/12 [==============================] - 11s 914ms/step - loss: 0.0040 - accuracy: 1.0000 - val_loss: 0.2189 - val_accuracy: 0.9192\n",
            "Epoch 36/50\n",
            "12/12 [==============================] - 11s 922ms/step - loss: 0.0030 - accuracy: 1.0000 - val_loss: 0.1537 - val_accuracy: 0.9293\n",
            "Epoch 37/50\n",
            "12/12 [==============================] - 11s 916ms/step - loss: 0.0150 - accuracy: 0.9973 - val_loss: 0.1208 - val_accuracy: 0.9596\n",
            "Epoch 38/50\n",
            "12/12 [==============================] - ETA: 0s - loss: 0.0135 - accuracy: 0.9973\n",
            "Epoch 00038: ReduceLROnPlateau reducing learning rate to 9.999999092680235e-13.\n",
            "12/12 [==============================] - 11s 925ms/step - loss: 0.0135 - accuracy: 0.9973 - val_loss: 0.1487 - val_accuracy: 0.9495\n",
            "Epoch 39/50\n",
            "12/12 [==============================] - 11s 910ms/step - loss: 0.0174 - accuracy: 0.9973 - val_loss: 0.1746 - val_accuracy: 0.9596\n",
            "Epoch 40/50\n",
            "12/12 [==============================] - 11s 917ms/step - loss: 0.0047 - accuracy: 1.0000 - val_loss: 0.1695 - val_accuracy: 0.9394\n",
            "Epoch 41/50\n",
            "12/12 [==============================] - 11s 920ms/step - loss: 0.0022 - accuracy: 1.0000 - val_loss: 0.1586 - val_accuracy: 0.9293\n",
            "Epoch 42/50\n",
            "12/12 [==============================] - 11s 920ms/step - loss: 0.0136 - accuracy: 0.9945 - val_loss: 0.1763 - val_accuracy: 0.9192\n",
            "Epoch 43/50\n",
            "12/12 [==============================] - 11s 918ms/step - loss: 0.0028 - accuracy: 1.0000 - val_loss: 0.1578 - val_accuracy: 0.9394\n",
            "Epoch 44/50\n",
            "12/12 [==============================] - ETA: 0s - loss: 0.0036 - accuracy: 1.0000\n",
            "Epoch 00044: ReduceLROnPlateau reducing learning rate to 9.9999988758398e-14.\n",
            "12/12 [==============================] - 11s 917ms/step - loss: 0.0036 - accuracy: 1.0000 - val_loss: 0.1504 - val_accuracy: 0.9293\n",
            "Epoch 45/50\n",
            "12/12 [==============================] - 11s 920ms/step - loss: 0.0045 - accuracy: 1.0000 - val_loss: 0.1655 - val_accuracy: 0.9293\n",
            "Epoch 46/50\n",
            "12/12 [==============================] - 11s 926ms/step - loss: 0.0041 - accuracy: 1.0000 - val_loss: 0.1604 - val_accuracy: 0.9394\n",
            "Epoch 47/50\n",
            "12/12 [==============================] - ETA: 0s - loss: 0.0023 - accuracy: 1.0000\n",
            "Epoch 00047: ReduceLROnPlateau reducing learning rate to 9.999999146890344e-15.\n",
            "12/12 [==============================] - 11s 924ms/step - loss: 0.0023 - accuracy: 1.0000 - val_loss: 0.1701 - val_accuracy: 0.9293\n",
            "Epoch 48/50\n",
            "12/12 [==============================] - 11s 914ms/step - loss: 0.0045 - accuracy: 1.0000 - val_loss: 0.1530 - val_accuracy: 0.9394\n",
            "Epoch 49/50\n",
            "12/12 [==============================] - 11s 918ms/step - loss: 0.0050 - accuracy: 1.0000 - val_loss: 0.2032 - val_accuracy: 0.9394\n",
            "Epoch 50/50\n",
            "12/12 [==============================] - ETA: 0s - loss: 0.0041 - accuracy: 1.0000\n",
            "Epoch 00050: ReduceLROnPlateau reducing learning rate to 9.999998977483753e-16.\n",
            "12/12 [==============================] - 12s 961ms/step - loss: 0.0041 - accuracy: 1.0000 - val_loss: 0.1333 - val_accuracy: 0.9596\n"
          ],
          "name": "stdout"
        }
      ]
    },
    {
      "cell_type": "code",
      "metadata": {
        "id": "qeu5xLMEOc_O"
      },
      "source": [
        "gender_hist_df = pd.DataFrame(gender_history.history)\n",
        "gender_hist_df.to_csv('/content/drive/My Drive/FaceDetection_AgeGender/history_dense201_gender.csv')\n",
        "gender_model.save('/content/drive/My Drive/FaceDetection_AgeGender/model_dense201_gender.h5')"
      ],
      "execution_count": null,
      "outputs": []
    },
    {
      "cell_type": "code",
      "metadata": {
        "id": "4MJD2mIrS9zL"
      },
      "source": [
        ""
      ],
      "execution_count": null,
      "outputs": []
    }
  ]
}